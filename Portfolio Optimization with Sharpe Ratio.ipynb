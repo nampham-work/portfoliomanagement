{
 "cells": [
  {
   "cell_type": "code",
   "execution_count": null,
   "id": "b6579b09-aaf8-492e-9d88-72bf31d32163",
   "metadata": {},
   "outputs": [],
   "source": [
    "# Import libraries\n",
    "!pip install yfinance\n",
    "!pip install fredapi\n",
    "\n",
    "\n",
    "import pandas as pd\n",
    "import numpy as np\n",
    "import yfinance as yf\n",
    "import statsmodels.api as sm\n",
    "from datetime import datetime, timedelta\n",
    "from scipy.optimize import minimize\n",
    "from fredapi import Fred"
   ]
  },
  {
   "cell_type": "markdown",
   "id": "5b7dd723-1e47-4411-bba4-bfa1cd286c2d",
   "metadata": {},
   "source": [
    "# Section 1: Define Tickers and Time Range"
   ]
  },
  {
   "cell_type": "code",
   "execution_count": 3,
   "id": "ecd1a0c5-e000-4e13-be7c-f0594f6f5810",
   "metadata": {},
   "outputs": [],
   "source": [
    "tickers = ['AMZN', 'VTI', 'VWO', 'VEA', 'BND', 'BJ', 'GS', 'IWM', 'FTNT']"
   ]
  },
  {
   "cell_type": "code",
   "execution_count": null,
   "id": "91999356",
   "metadata": {},
   "outputs": [],
   "source": [
    "# Date setting \n",
    "\n",
    "end_date = datetime.today() # Set to today\n",
    "\n",
    "start_date = end_date - timedelta(days = 5*30)  # Set to 5 years ago\n",
    "\n",
    "print(start_date)"
   ]
  },
  {
   "cell_type": "markdown",
   "id": "43eff933-f7ca-481c-b00f-d26879b902d4",
   "metadata": {},
   "source": [
    "# Section 2: Download Adjusted Close Prices"
   ]
  },
  {
   "cell_type": "code",
   "execution_count": null,
   "id": "9c63f568-2f80-4a9d-b72d-9885f72ad216",
   "metadata": {},
   "outputs": [],
   "source": [
    "adj_close_df = pd.DataFrame()\n",
    "display(adj_close_df)"
   ]
  },
  {
   "cell_type": "code",
   "execution_count": null,
   "id": "f656cdbc-d78d-4202-96e7-8b8249ceb1b3",
   "metadata": {},
   "outputs": [],
   "source": [
    "for ticker in tickers:\n",
    "    data = yf.download(ticker, start = start_date, end = end_date)\n",
    "    adj_close_df[ticker] = data['Adj Close']"
   ]
  },
  {
   "cell_type": "markdown",
   "id": "d46c7b48-19e3-4b6f-8373-607f012f7719",
   "metadata": {},
   "source": [
    "# Section 3: Calculate Lognormal Returns"
   ]
  },
  {
   "cell_type": "code",
   "execution_count": 7,
   "id": "3ef50233-6caa-4bca-848a-c63902e90d6d",
   "metadata": {},
   "outputs": [],
   "source": [
    "# Calculate the lognormal returns for each ticker \n",
    "\n",
    "log_returns = np.log(adj_close_df / adj_close_df.shift(1))\n",
    "log_returns = log_returns.dropna()   # Cleanse data with missing values"
   ]
  },
  {
   "cell_type": "markdown",
   "id": "487e5027-5a0b-4ad1-83a0-cf322595a25e",
   "metadata": {},
   "source": [
    "# Section 4: Calculate CoVariance Matrix"
   ]
  },
  {
   "cell_type": "code",
   "execution_count": null,
   "id": "85285eb4-d7f3-420d-9da5-0faa19800950",
   "metadata": {},
   "outputs": [],
   "source": [
    "cov_matrix = log_returns.cov() * 252 # Use 252 because it is trading days during the year\n",
    "print(cov_matrix)   "
   ]
  },
  {
   "cell_type": "markdown",
   "id": "ed571f99",
   "metadata": {},
   "source": [
    "# Section 5: Define Portfolio Performance Metrics "
   ]
  },
  {
   "cell_type": "code",
   "execution_count": 9,
   "id": "f7caf4fe",
   "metadata": {},
   "outputs": [],
   "source": [
    "# Calculate the portfolio standard deviation\n",
    "def std_dev(weights, cov_matrix):\n",
    "    variance = weights.T @ cov_matrix @ weights\n",
    "    return np.sqrt(variance)\n"
   ]
  },
  {
   "cell_type": "code",
   "execution_count": 10,
   "id": "270ca120",
   "metadata": {},
   "outputs": [],
   "source": [
    "# Calculate the expected return\n",
    "\n",
    "def ept_return(weights, log_returns):\n",
    "    return np.sum(log_returns.mean()*weights)*252"
   ]
  },
  {
   "cell_type": "code",
   "execution_count": 11,
   "id": "185937b8",
   "metadata": {},
   "outputs": [],
   "source": [
    "# Calculate the Sharpe Ratio\n",
    "# Sharpe Ratio = (Portfolio Return - Risk Free Rate) / St.Dev\n",
    "\n",
    "def sharpe_ratio(weights, log_returns, cov_matrix, risk_free_rate):\n",
    "    return(ept_return(weights, log_returns) - risk_free_rate) / std_dev(weights, cov_matrix)"
   ]
  },
  {
   "cell_type": "markdown",
   "id": "020834b2",
   "metadata": {},
   "source": [
    "# Section 6: Portfolio Optimization"
   ]
  },
  {
   "cell_type": "code",
   "execution_count": 12,
   "id": "74775078",
   "metadata": {},
   "outputs": [],
   "source": [
    "# Set the risk-free rate according to textbook\n",
    "\n",
    "# risk_free_rate = 0.02"
   ]
  },
  {
   "cell_type": "code",
   "execution_count": null,
   "id": "2e7d4ada",
   "metadata": {},
   "outputs": [],
   "source": [
    "# Get API from the FED\n",
    "\n",
    "fred = Fred(api_key = '87f6fd22bd418ae0d91a107ad639d347')\n",
    "ten_year_treasury_rate = fred.get_series_latest_release('GS10') / 100\n",
    "\n",
    "# Set the risk-free rate\n",
    "\n",
    "risk_free_rate = ten_year_treasury_rate.iloc[-1]\n",
    "\n",
    "# print(ten_year_treasury_rate)\n",
    "print(risk_free_rate)"
   ]
  },
  {
   "cell_type": "code",
   "execution_count": 14,
   "id": "2b1eadae",
   "metadata": {},
   "outputs": [],
   "source": [
    "# Define the function to minimize\n",
    "\n",
    "# Negative Sharpe Ratio\n",
    "def neg_sharpe_ratio(weights, log_returns, cov_matrix, risk_free_rate):\n",
    "    return -(ept_return(weights, log_returns) - risk_free_rate) / std_dev(weights, cov_matrix)"
   ]
  },
  {
   "cell_type": "code",
   "execution_count": null,
   "id": "79caa40b",
   "metadata": {},
   "outputs": [],
   "source": [
    "# Set the constraints and bounds\n",
    "constraints = {'type': 'eq', 'fun': lambda weights: np.sum(weights) - 1}\n",
    "bounds = [(0, 0.3) for _ in range(len(tickers))] # List of tuples that set the lower and upper bounds for each weight.\n",
    "\n"
   ]
  },
  {
   "cell_type": "code",
   "execution_count": null,
   "id": "b22822d0",
   "metadata": {},
   "outputs": [],
   "source": [
    "# Set initial weights\n",
    "\n",
    "initial_weights = np.array([1/len(tickers)]*len(tickers))\n",
    "\n",
    "display(initial_weights)"
   ]
  },
  {
   "cell_type": "code",
   "execution_count": 17,
   "id": "92b3939a",
   "metadata": {},
   "outputs": [],
   "source": [
    "# Optimize the weights to maximize Sharpe Ratio\n",
    "\n",
    "optimized_results = minimize(neg_sharpe_ratio, \n",
    "                             initial_weights, \n",
    "                             args=(log_returns, cov_matrix, risk_free_rate), \n",
    "                             method='SLSQP', \n",
    "                             constraints=constraints, \n",
    "                             bounds=bounds)"
   ]
  },
  {
   "cell_type": "code",
   "execution_count": 18,
   "id": "6ecfc684",
   "metadata": {},
   "outputs": [],
   "source": [
    "# Get the optimal weights\n",
    "\n",
    "optimal_weights = optimized_results.x\n"
   ]
  },
  {
   "cell_type": "markdown",
   "id": "22cc1480",
   "metadata": {},
   "source": [
    "# Section 7: Analyze the Optimal Portfolio"
   ]
  },
  {
   "cell_type": "code",
   "execution_count": null,
   "id": "b8dd2624",
   "metadata": {},
   "outputs": [],
   "source": [
    "print(\"Optimal Weights:\")\n",
    "for ticker, weight in zip(tickers, optimal_weights):\n",
    "    print(f\"{ticker}: {weight:.4f}\")\n",
    "\n",
    "optimal_portfolio_return = ept_return(optimal_weights, log_returns)\n",
    "optimal_portfolio_volatility = std_dev(optimal_weights, cov_matrix)\n",
    "optimal_sharpe_ratio = sharpe_ratio(optimal_weights, log_returns, cov_matrix, risk_free_rate)\n",
    "\n",
    "print(f\"Expected Annual Return: {optimal_portfolio_return:.4f}\")\n",
    "print(f\"Expected Volatility: {optimal_portfolio_volatility:.4f}\")\n",
    "print(f\"Sharpe Ratio: {optimal_sharpe_ratio:.4f}\")"
   ]
  },
  {
   "cell_type": "markdown",
   "id": "ee0bc7de",
   "metadata": {},
   "source": [
    "# Section 8: Data visualization"
   ]
  },
  {
   "cell_type": "code",
   "execution_count": null,
   "id": "19210621",
   "metadata": {},
   "outputs": [],
   "source": [
    "import matplotlib.pyplot as plt\n",
    "\n",
    "plt.figure(figsize=(10, 6))\n",
    "plt.bar(tickers, optimal_weights)\n",
    "\n",
    "plt.xlabel('Assets')\n",
    "plt.ylabel('Optimal Weights')\n",
    "plt.title('Optimal Portfolio Weights')\n",
    "\n",
    "plt.show()"
   ]
  }
 ],
 "metadata": {
  "kernelspec": {
   "display_name": "Python 3 (ipykernel)",
   "language": "python",
   "name": "python3"
  },
  "language_info": {
   "codemirror_mode": {
    "name": "ipython",
    "version": 3
   },
   "file_extension": ".py",
   "mimetype": "text/x-python",
   "name": "python",
   "nbconvert_exporter": "python",
   "pygments_lexer": "ipython3",
   "version": "3.12.4"
  }
 },
 "nbformat": 4,
 "nbformat_minor": 5
}
