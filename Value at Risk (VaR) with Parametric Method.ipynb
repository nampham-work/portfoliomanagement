{
 "cells": [
  {
   "cell_type": "code",
   "execution_count": 12,
   "metadata": {},
   "outputs": [],
   "source": [
    "# Import Libraries\n",
    "import numpy as np\n",
    "import pandas as pd\n",
    "import datetime as dt\n",
    "import yfinance as yf\n",
    "import matplotlib.pyplot as plt\n",
    "from scipy.stats import norm\n",
    "pd.set_option('display.max_columns', None)"
   ]
  },
  {
   "cell_type": "markdown",
   "metadata": {},
   "source": [
    "# Section 1: Define Tickers and Time Range"
   ]
  },
  {
   "cell_type": "code",
   "execution_count": 3,
   "metadata": {},
   "outputs": [],
   "source": [
    "years = 15\n",
    "\n",
    "end_date = dt.datetime.now()\n",
    "start_date = end_date - dt.timedelta(days = 365 * years)\n",
    "\n",
    "tickers = ['AMZN', 'VTI', 'VWO', 'VEA', 'BND', 'BJ', 'GS', 'IWM', 'FTNT']"
   ]
  },
  {
   "cell_type": "markdown",
   "metadata": {},
   "source": [
    "# Section 2: Adjusted Close Prices"
   ]
  },
  {
   "cell_type": "code",
   "execution_count": 4,
   "metadata": {},
   "outputs": [
    {
     "name": "stderr",
     "output_type": "stream",
     "text": [
      "[*********************100%***********************]  1 of 1 completed\n",
      "[*********************100%***********************]  1 of 1 completed\n",
      "[*********************100%***********************]  1 of 1 completed\n",
      "[*********************100%***********************]  1 of 1 completed\n",
      "[*********************100%***********************]  1 of 1 completed\n",
      "[*********************100%***********************]  1 of 1 completed\n",
      "[*********************100%***********************]  1 of 1 completed\n",
      "[*********************100%***********************]  1 of 1 completed\n",
      "[*********************100%***********************]  1 of 1 completed\n"
     ]
    },
    {
     "data": {
      "text/html": [
       "<div>\n",
       "<style scoped>\n",
       "    .dataframe tbody tr th:only-of-type {\n",
       "        vertical-align: middle;\n",
       "    }\n",
       "\n",
       "    .dataframe tbody tr th {\n",
       "        vertical-align: top;\n",
       "    }\n",
       "\n",
       "    .dataframe thead th {\n",
       "        text-align: right;\n",
       "    }\n",
       "</style>\n",
       "<table border=\"1\" class=\"dataframe\">\n",
       "  <thead>\n",
       "    <tr style=\"text-align: right;\">\n",
       "      <th></th>\n",
       "      <th>AMZN</th>\n",
       "      <th>VTI</th>\n",
       "      <th>VWO</th>\n",
       "      <th>VEA</th>\n",
       "      <th>BND</th>\n",
       "      <th>BJ</th>\n",
       "      <th>GS</th>\n",
       "      <th>IWM</th>\n",
       "      <th>FTNT</th>\n",
       "    </tr>\n",
       "    <tr>\n",
       "      <th>Date</th>\n",
       "      <th></th>\n",
       "      <th></th>\n",
       "      <th></th>\n",
       "      <th></th>\n",
       "      <th></th>\n",
       "      <th></th>\n",
       "      <th></th>\n",
       "      <th></th>\n",
       "      <th></th>\n",
       "    </tr>\n",
       "  </thead>\n",
       "  <tbody>\n",
       "    <tr>\n",
       "      <th>2009-10-05</th>\n",
       "      <td>4.433500</td>\n",
       "      <td>40.072235</td>\n",
       "      <td>25.714266</td>\n",
       "      <td>21.120605</td>\n",
       "      <td>51.922642</td>\n",
       "      <td>NaN</td>\n",
       "      <td>144.024612</td>\n",
       "      <td>47.966614</td>\n",
       "      <td>NaN</td>\n",
       "    </tr>\n",
       "    <tr>\n",
       "      <th>2009-10-06</th>\n",
       "      <td>4.545500</td>\n",
       "      <td>40.665775</td>\n",
       "      <td>26.135256</td>\n",
       "      <td>21.467358</td>\n",
       "      <td>51.981441</td>\n",
       "      <td>NaN</td>\n",
       "      <td>144.418472</td>\n",
       "      <td>48.860317</td>\n",
       "      <td>NaN</td>\n",
       "    </tr>\n",
       "    <tr>\n",
       "      <th>2009-10-07</th>\n",
       "      <td>4.698500</td>\n",
       "      <td>40.757107</td>\n",
       "      <td>26.075129</td>\n",
       "      <td>21.543016</td>\n",
       "      <td>52.007523</td>\n",
       "      <td>NaN</td>\n",
       "      <td>147.121780</td>\n",
       "      <td>48.876556</td>\n",
       "      <td>NaN</td>\n",
       "    </tr>\n",
       "    <tr>\n",
       "      <th>2009-10-08</th>\n",
       "      <td>4.761000</td>\n",
       "      <td>41.114746</td>\n",
       "      <td>26.476078</td>\n",
       "      <td>21.877163</td>\n",
       "      <td>51.987904</td>\n",
       "      <td>NaN</td>\n",
       "      <td>145.337585</td>\n",
       "      <td>49.323410</td>\n",
       "      <td>NaN</td>\n",
       "    </tr>\n",
       "    <tr>\n",
       "      <th>2009-10-09</th>\n",
       "      <td>4.785500</td>\n",
       "      <td>41.396294</td>\n",
       "      <td>26.616413</td>\n",
       "      <td>21.788902</td>\n",
       "      <td>51.609070</td>\n",
       "      <td>NaN</td>\n",
       "      <td>146.210403</td>\n",
       "      <td>49.900230</td>\n",
       "      <td>NaN</td>\n",
       "    </tr>\n",
       "    <tr>\n",
       "      <th>...</th>\n",
       "      <td>...</td>\n",
       "      <td>...</td>\n",
       "      <td>...</td>\n",
       "      <td>...</td>\n",
       "      <td>...</td>\n",
       "      <td>...</td>\n",
       "      <td>...</td>\n",
       "      <td>...</td>\n",
       "      <td>...</td>\n",
       "    </tr>\n",
       "    <tr>\n",
       "      <th>2024-09-24</th>\n",
       "      <td>193.960007</td>\n",
       "      <td>282.000031</td>\n",
       "      <td>47.250000</td>\n",
       "      <td>52.480000</td>\n",
       "      <td>75.339996</td>\n",
       "      <td>82.040001</td>\n",
       "      <td>498.019989</td>\n",
       "      <td>220.378006</td>\n",
       "      <td>77.459999</td>\n",
       "    </tr>\n",
       "    <tr>\n",
       "      <th>2024-09-25</th>\n",
       "      <td>192.529999</td>\n",
       "      <td>281.072876</td>\n",
       "      <td>46.770000</td>\n",
       "      <td>52.150002</td>\n",
       "      <td>75.059998</td>\n",
       "      <td>82.139999</td>\n",
       "      <td>491.140015</td>\n",
       "      <td>217.690002</td>\n",
       "      <td>76.610001</td>\n",
       "    </tr>\n",
       "    <tr>\n",
       "      <th>2024-09-26</th>\n",
       "      <td>191.160004</td>\n",
       "      <td>282.329010</td>\n",
       "      <td>48.259998</td>\n",
       "      <td>53.310001</td>\n",
       "      <td>75.059998</td>\n",
       "      <td>82.059998</td>\n",
       "      <td>496.920013</td>\n",
       "      <td>218.850006</td>\n",
       "      <td>77.209999</td>\n",
       "    </tr>\n",
       "    <tr>\n",
       "      <th>2024-09-27</th>\n",
       "      <td>187.970001</td>\n",
       "      <td>282.049988</td>\n",
       "      <td>48.250000</td>\n",
       "      <td>52.980000</td>\n",
       "      <td>75.279999</td>\n",
       "      <td>82.019997</td>\n",
       "      <td>498.510010</td>\n",
       "      <td>220.330002</td>\n",
       "      <td>77.449997</td>\n",
       "    </tr>\n",
       "    <tr>\n",
       "      <th>2024-09-30</th>\n",
       "      <td>185.750000</td>\n",
       "      <td>281.380005</td>\n",
       "      <td>47.810001</td>\n",
       "      <td>52.654499</td>\n",
       "      <td>75.059898</td>\n",
       "      <td>82.489998</td>\n",
       "      <td>491.869995</td>\n",
       "      <td>219.679993</td>\n",
       "      <td>77.169998</td>\n",
       "    </tr>\n",
       "  </tbody>\n",
       "</table>\n",
       "<p>3772 rows × 9 columns</p>\n",
       "</div>"
      ],
      "text/plain": [
       "                  AMZN         VTI        VWO        VEA        BND  \\\n",
       "Date                                                                  \n",
       "2009-10-05    4.433500   40.072235  25.714266  21.120605  51.922642   \n",
       "2009-10-06    4.545500   40.665775  26.135256  21.467358  51.981441   \n",
       "2009-10-07    4.698500   40.757107  26.075129  21.543016  52.007523   \n",
       "2009-10-08    4.761000   41.114746  26.476078  21.877163  51.987904   \n",
       "2009-10-09    4.785500   41.396294  26.616413  21.788902  51.609070   \n",
       "...                ...         ...        ...        ...        ...   \n",
       "2024-09-24  193.960007  282.000031  47.250000  52.480000  75.339996   \n",
       "2024-09-25  192.529999  281.072876  46.770000  52.150002  75.059998   \n",
       "2024-09-26  191.160004  282.329010  48.259998  53.310001  75.059998   \n",
       "2024-09-27  187.970001  282.049988  48.250000  52.980000  75.279999   \n",
       "2024-09-30  185.750000  281.380005  47.810001  52.654499  75.059898   \n",
       "\n",
       "                   BJ          GS         IWM       FTNT  \n",
       "Date                                                      \n",
       "2009-10-05        NaN  144.024612   47.966614        NaN  \n",
       "2009-10-06        NaN  144.418472   48.860317        NaN  \n",
       "2009-10-07        NaN  147.121780   48.876556        NaN  \n",
       "2009-10-08        NaN  145.337585   49.323410        NaN  \n",
       "2009-10-09        NaN  146.210403   49.900230        NaN  \n",
       "...               ...         ...         ...        ...  \n",
       "2024-09-24  82.040001  498.019989  220.378006  77.459999  \n",
       "2024-09-25  82.139999  491.140015  217.690002  76.610001  \n",
       "2024-09-26  82.059998  496.920013  218.850006  77.209999  \n",
       "2024-09-27  82.019997  498.510010  220.330002  77.449997  \n",
       "2024-09-30  82.489998  491.869995  219.679993  77.169998  \n",
       "\n",
       "[3772 rows x 9 columns]"
      ]
     },
     "metadata": {},
     "output_type": "display_data"
    }
   ],
   "source": [
    "adj_close_df = pd.DataFrame()\n",
    "\n",
    "for ticker in tickers:\n",
    "    data = yf.download(ticker, start = start_date, end = end_date)\n",
    "    adj_close_df[ticker] = data['Adj Close']\n",
    "\n",
    "display(adj_close_df)"
   ]
  },
  {
   "cell_type": "markdown",
   "metadata": {},
   "source": [
    "# Section 3: Daily Log Returns and Dropping NAs"
   ]
  },
  {
   "cell_type": "code",
   "execution_count": 5,
   "metadata": {},
   "outputs": [
    {
     "name": "stdout",
     "output_type": "stream",
     "text": [
      "                AMZN       VTI       VWO       VEA       BND        BJ  \\\n",
      "Date                                                                     \n",
      "2018-06-29 -0.000970  0.000712  0.016245  0.007487 -0.000252  0.072321   \n",
      "2018-07-02  0.008191  0.002418 -0.010960 -0.010781 -0.000621 -0.005087   \n",
      "2018-07-03 -0.011633 -0.002560  0.000958  0.002118  0.002025  0.056993   \n",
      "2018-07-05  0.003400  0.008439 -0.000958  0.006329  0.001389 -0.047687   \n",
      "2018-07-06  0.006392  0.008369  0.012145  0.006753  0.001136 -0.004219   \n",
      "...              ...       ...       ...       ...       ...       ...   \n",
      "2024-09-24  0.000413  0.002513  0.034230  0.006116  0.001195  0.006849   \n",
      "2024-09-25 -0.007400 -0.003293 -0.010211 -0.006308 -0.003723  0.001218   \n",
      "2024-09-26 -0.007141  0.004459  0.031361  0.022000  0.000000 -0.000974   \n",
      "2024-09-27 -0.016828 -0.000989 -0.000207 -0.006209  0.002927 -0.000488   \n",
      "2024-09-30 -0.011881 -0.002378 -0.009161 -0.006163 -0.002928  0.005714   \n",
      "\n",
      "                  GS       IWM      FTNT  \n",
      "Date                                      \n",
      "2018-06-29 -0.012838 -0.000671 -0.000320  \n",
      "2018-07-02  0.012122  0.006876  0.023743  \n",
      "2018-07-03 -0.012983  0.003979 -0.005332  \n",
      "2018-07-05  0.001632  0.011332  0.011570  \n",
      "2018-07-06  0.004745  0.008416  0.009900  \n",
      "...              ...       ...       ...  \n",
      "2024-09-24  0.001226  0.001675  0.000258  \n",
      "2024-09-25 -0.013911 -0.012272 -0.011034  \n",
      "2024-09-26  0.011700  0.005315  0.007801  \n",
      "2024-09-27  0.003195  0.006740  0.003104  \n",
      "2024-09-30 -0.013409 -0.002955 -0.003622  \n",
      "\n",
      "[1573 rows x 9 columns]\n"
     ]
    }
   ],
   "source": [
    "log_returns = np.log(adj_close_df / adj_close_df.shift(1)) #  This method of calculating returns is preferred in finance because it allows for easier compounding of returns over time and makes the returns additive.\n",
    "log_returns = log_returns.dropna() # Drop NAs\n",
    "print(log_returns)"
   ]
  },
  {
   "cell_type": "markdown",
   "metadata": {},
   "source": [
    "# Section 4: Create Equally Weighted Portfolio"
   ]
  },
  {
   "cell_type": "code",
   "execution_count": 6,
   "metadata": {},
   "outputs": [
    {
     "name": "stdout",
     "output_type": "stream",
     "text": [
      "[0.11111111 0.11111111 0.11111111 0.11111111 0.11111111 0.11111111\n",
      " 0.11111111 0.11111111 0.11111111]\n"
     ]
    }
   ],
   "source": [
    "portfolio_value = 1000000\n",
    "weights = np.array([1/len(tickers)]*len(tickers))\n",
    "print(weights)"
   ]
  },
  {
   "cell_type": "markdown",
   "metadata": {},
   "source": [
    "# Section 5: Calculating Historical Portfolio Returns"
   ]
  },
  {
   "cell_type": "code",
   "execution_count": 7,
   "metadata": {},
   "outputs": [
    {
     "name": "stdout",
     "output_type": "stream",
     "text": [
      "Date\n",
      "2018-06-29    0.009079\n",
      "2018-07-02    0.002878\n",
      "2018-07-03    0.003729\n",
      "2018-07-05   -0.000506\n",
      "2018-07-06    0.005960\n",
      "                ...   \n",
      "2024-09-24    0.006053\n",
      "2024-09-25   -0.007437\n",
      "2024-09-26    0.008280\n",
      "2024-09-27   -0.000973\n",
      "2024-09-30   -0.005198\n",
      "Length: 1573, dtype: float64\n"
     ]
    }
   ],
   "source": [
    "historical_returns = (log_returns * weights) # The contribution of each asset's return to the overall portfolio return for that time period\n",
    "historical_returns = historical_returns.sum(axis=1)\n",
    "print(historical_returns)"
   ]
  },
  {
   "cell_type": "markdown",
   "metadata": {},
   "source": [
    "# Section 6: Finding X-Day Historical Return"
   ]
  },
  {
   "cell_type": "code",
   "execution_count": 8,
   "metadata": {},
   "outputs": [
    {
     "data": {
      "text/plain": [
       "Date\n",
       "2018-09-10    0.102163\n",
       "2018-09-11    0.092109\n",
       "2018-09-12    0.090764\n",
       "2018-09-13    0.086640\n",
       "2018-09-14    0.085658\n",
       "                ...   \n",
       "2024-09-24    0.038444\n",
       "2024-09-25    0.021248\n",
       "2024-09-26    0.038773\n",
       "2024-09-27    0.052326\n",
       "2024-09-30    0.051453\n",
       "Length: 1524, dtype: float64"
      ]
     },
     "metadata": {},
     "output_type": "display_data"
    }
   ],
   "source": [
    "days = 50\n",
    "\n",
    "range_returns = historical_returns.rolling(window = days).sum()\n",
    "range_returns = range_returns.dropna()\n",
    "display(range_returns)"
   ]
  },
  {
   "cell_type": "markdown",
   "metadata": {},
   "source": [
    "# Section 7: VaR Using the Parametric Method"
   ]
  },
  {
   "cell_type": "code",
   "execution_count": 9,
   "metadata": {},
   "outputs": [],
   "source": [
    "cov_matrix = log_returns.cov() * 252\n",
    "portfolio_std_dev = np.sqrt(weights.T @ cov_matrix @ weights)"
   ]
  },
  {
   "cell_type": "code",
   "execution_count": 13,
   "metadata": {},
   "outputs": [],
   "source": [
    "confidence_levels = [0.90, 0.95, 0.99]\n",
    "\n",
    "VaRs = []\n",
    "for cl in confidence_levels:\n",
    "    VaR = portfolio_value * (norm.ppf(1 - cl) * portfolio_std_dev * np.sqrt(days / 252) - historical_returns.mean() * days)\n",
    "    VaRs.append(VaR)"
   ]
  },
  {
   "cell_type": "code",
   "execution_count": 15,
   "metadata": {},
   "outputs": [
    {
     "name": "stdout",
     "output_type": "stream",
     "text": [
      "Confidence Level     Value at Risk       \n",
      "----------------------------------------\n",
      "    90%:          $-132,969.00\n",
      "    95%:          $-163,787.88\n",
      "    99%:          $-221,598.97\n"
     ]
    }
   ],
   "source": [
    "# Output Display\n",
    "print(f'{\"Confidence Level\":<20} {\"Value at Risk\":<20}')\n",
    "print('-' * 40)\n",
    "\n",
    "for cl, VaR in zip(confidence_levels, VaRs):\n",
    "    print(f'{cl * 100:>6.0f}%: {\"\":<8} ${VaR:>10,.2f}')"
   ]
  },
  {
   "cell_type": "markdown",
   "metadata": {},
   "source": [
    "# Section 8: Visualization"
   ]
  },
  {
   "cell_type": "code",
   "execution_count": 17,
   "metadata": {},
   "outputs": [
    {
     "data": {
      "image/png": "[encoded data removed]",
      "text/plain": [
       "<Figure size 640x480 with 1 Axes>"
      ]
     },
     "metadata": {},
     "output_type": "display_data"
    }
   ],
   "source": [
    "# Convert returns to dollar values for the histogram\n",
    "historical_x_day_returns_dollar = range_returns * portfolio_value\n",
    "\n",
    "# Plot the histogram\n",
    "plt.hist(historical_x_day_returns_dollar, bins=50, density=True, alpha=0.5, label=f'{days}-Day Returns')\n",
    "\n",
    "# Add vertical lines representing VaR at each confidence level\n",
    "for cl, VaR in zip(confidence_levels, VaRs):\n",
    "    plt.axvline(x=-VaR, linestyle='--', color='r', label='VaR at {}% Confidence'.format(int(cl * 100)))\n",
    "\n",
    "plt.xlabel(f'{days}-Day Portfolio Return ($)')\n",
    "plt.ylabel('Frequency')\n",
    "plt.title(f'Distribution of Portfolio {days}-Day Returns and Parametric VaR Estimates')\n",
    "plt.legend()\n",
    "plt.show()"
   ]
  }
 ],
 "metadata": {
  "kernelspec": {
   "display_name": "Python 3",
   "language": "python",
   "name": "python3"
  },
  "language_info": {
   "codemirror_mode": {
    "name": "ipython",
    "version": 3
   },
   "file_extension": ".py",
   "mimetype": "text/x-python",
   "name": "python",
   "nbconvert_exporter": "python",
   "pygments_lexer": "ipython3",
   "version": "3.12.4"
  }
 },
 "nbformat": 4,
 "nbformat_minor": 2
}
